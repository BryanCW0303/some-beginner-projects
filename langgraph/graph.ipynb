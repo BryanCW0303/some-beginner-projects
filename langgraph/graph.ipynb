{
 "cells": [
  {
   "cell_type": "code",
   "execution_count": 44,
   "id": "d52fee52-09fc-4f76-9e92-cd208ddf9907",
   "metadata": {},
   "outputs": [],
   "source": [
    "from typing import Optional\n",
    "from langgraph.graph import StateGraph, START, END\n",
    "from pydantic import BaseModel"
   ]
  },
  {
   "cell_type": "code",
   "execution_count": 16,
   "id": "b945d7b2-84f6-4612-9b94-25ad15226284",
   "metadata": {},
   "outputs": [
    {
     "data": {
      "text/plain": [
       "<langgraph.graph.state.StateGraph at 0x1a8441ff510>"
      ]
     },
     "execution_count": 16,
     "metadata": {},
     "output_type": "execute_result"
    }
   ],
   "source": [
    "builder = StateGraph(dict)\n",
    "builder"
   ]
  },
  {
   "cell_type": "code",
   "execution_count": 18,
   "id": "39af2055-a630-4b42-9c53-c4bc3c7e8ac5",
   "metadata": {},
   "outputs": [],
   "source": [
    "def addition(state):\n",
    "    print(f\"init_state: {state}\")\n",
    "    return {\"x\": state[\"x\"] + 1}\n",
    "\n",
    "def subtraction(state):\n",
    "    print(f\"addition_state: {state}\")\n",
    "    return {\"x\": state[\"x\"] - 2}"
   ]
  },
  {
   "cell_type": "code",
   "execution_count": 20,
   "id": "54536d6d-8ecb-4434-b78a-71339a71a261",
   "metadata": {},
   "outputs": [
    {
     "data": {
      "text/plain": [
       "<langgraph.graph.state.StateGraph at 0x1a8441ff510>"
      ]
     },
     "execution_count": 20,
     "metadata": {},
     "output_type": "execute_result"
    }
   ],
   "source": [
    "builder.add_node(\"addition\", addition)\n",
    "builder.add_node(\"subtraction\", subtraction)\n",
    "\n",
    "builder.add_edge(START, \"addition\")\n",
    "builder.add_edge(\"addition\", \"subtraction\")\n",
    "builder.add_edge(\"subtraction\", END)"
   ]
  },
  {
   "cell_type": "code",
   "execution_count": 24,
   "id": "742c3484-3b74-4c07-877a-67e01d2564e5",
   "metadata": {},
   "outputs": [],
   "source": [
    "graph = builder.compile()"
   ]
  },
  {
   "cell_type": "code",
   "execution_count": 26,
   "id": "a8bcbbe7-9b6d-46a4-b7d6-b719fa89d954",
   "metadata": {},
   "outputs": [
    {
     "name": "stdout",
     "output_type": "stream",
     "text": [
      "init_state: {'x': 10}\n",
      "addition_state: {'x': 11}\n"
     ]
    },
    {
     "data": {
      "text/plain": [
       "{'x': 9}"
      ]
     },
     "execution_count": 26,
     "metadata": {},
     "output_type": "execute_result"
    }
   ],
   "source": [
    "initial_state = {\"x\": 10}\n",
    "\n",
    "graph.invoke(initial_state)"
   ]
  },
  {
   "cell_type": "code",
   "execution_count": 28,
   "id": "d2c21286-a1d6-48d8-8634-91aeae6c4708",
   "metadata": {},
   "outputs": [
    {
     "data": {
      "text/plain": [
       "{'x': 'abc', 'y': 'hello'}"
      ]
     },
     "execution_count": 28,
     "metadata": {},
     "output_type": "execute_result"
    }
   ],
   "source": [
    "state = {\"x\": 1, \"y\": \"hello\"}\n",
    "state[\"x\"] = \"abc\"\n",
    "state"
   ]
  },
  {
   "cell_type": "code",
   "execution_count": 34,
   "id": "67e55170-a78c-4ec7-b170-54b2a47ffbc2",
   "metadata": {},
   "outputs": [
    {
     "name": "stdout",
     "output_type": "stream",
     "text": [
      "123\n",
      "default\n"
     ]
    }
   ],
   "source": [
    "class MyState(BaseModel):\n",
    "    x: int\n",
    "    y: str = \"default\"\n",
    "\n",
    "state = MyState(x=\"123\")\n",
    "print(state.x)\n",
    "print(state.y)"
   ]
  },
  {
   "cell_type": "code",
   "execution_count": 42,
   "id": "5dc40652-942c-407c-92f9-dd099d3b77e0",
   "metadata": {},
   "outputs": [
    {
     "name": "stdout",
     "output_type": "stream",
     "text": [
      "[addition] initial state: x=10\n",
      "[subtraction] received state: x=11\n"
     ]
    },
    {
     "data": {
      "text/plain": [
       "{'x': 9}"
      ]
     },
     "execution_count": 42,
     "metadata": {},
     "output_type": "execute_result"
    }
   ],
   "source": [
    "class CalcState(BaseModel):\n",
    "    x: int\n",
    "\n",
    "def addition(state: CalcState) -> CalcState:\n",
    "    print(f\"[addition] initial state: {state}\")\n",
    "    return CalcState(x=state.x + 1)\n",
    "\n",
    "def subtraction(state: CalcState) -> CalcState:\n",
    "    print(f\"[subtraction] received state: {state}\")\n",
    "    return CalcState(x=state.x - 2)\n",
    "\n",
    "builder = StateGraph(CalcState)\n",
    "\n",
    "builder.add_node(\"addition\", addition)\n",
    "builder.add_node(\"subtraction\", subtraction)\n",
    "\n",
    "builder.add_edge(START, \"addition\")\n",
    "builder.add_edge(\"addition\", \"subtraction\")\n",
    "builder.add_edge(\"subtraction\", END)\n",
    "\n",
    "graph = builder.compile()\n",
    "\n",
    "initial_state = {\"x\": 10}\n",
    "graph.invoke(initial_state)"
   ]
  },
  {
   "cell_type": "code",
   "execution_count": 46,
   "id": "0f2d7da1-d218-4a8a-93a2-83271d8e3b26",
   "metadata": {},
   "outputs": [
    {
     "name": "stdout",
     "output_type": "stream",
     "text": [
      "[check_x] Received state: x=4 result=None\n",
      "[handle_even] x is even number\n"
     ]
    },
    {
     "data": {
      "text/plain": [
       "{'x': 4, 'result': 'even'}"
      ]
     },
     "execution_count": 46,
     "metadata": {},
     "output_type": "execute_result"
    }
   ],
   "source": [
    "class MyState(BaseModel):\n",
    "    x: int\n",
    "    result: Optional[str] = None\n",
    "\n",
    "def check_x(state: MyState) -> MyState:\n",
    "    print(f\"[check_x] Received state: {state}\")\n",
    "    return state\n",
    "\n",
    "def is_even(state: MyState) -> bool:\n",
    "    return state.x % 2 == 0\n",
    "\n",
    "def handle_even(state: MyState) -> MyState:\n",
    "    print(\"[handle_even] x is even number\")\n",
    "    return MyState(x=state.x, result=\"even\")\n",
    "\n",
    "def handle_odd(state: MyState) -> MyState:\n",
    "    print(\"[handle_odd] x is odd number\")\n",
    "    return MyState(x=state.x, result=\"odd\")\n",
    "\n",
    "builder = StateGraph(MyState)\n",
    "\n",
    "builder.add_node(\"check_x\", check_x)\n",
    "builder.add_node(\"handle_even\", handle_even)\n",
    "builder.add_node(\"handle_odd\", handle_odd)\n",
    "\n",
    "builder.add_conditional_edges(\"check_x\", is_even, {\n",
    "    True: \"handle_even\",\n",
    "    False: \"handle_odd\"\n",
    "})\n",
    "\n",
    "builder.add_edge(START, \"check_x\")\n",
    "builder.add_edge(\"handle_even\", END)\n",
    "builder.add_edge(\"handle_odd\", END)\n",
    "\n",
    "graph = builder.compile()\n",
    "graph.invoke(MyState(x=4))"
   ]
  },
  {
   "cell_type": "code",
   "execution_count": 48,
   "id": "bee9eb3b-bc66-487d-8d59-633cb325b1a0",
   "metadata": {},
   "outputs": [
    {
     "name": "stdout",
     "output_type": "stream",
     "text": [
      "[increment] x = 6\n",
      "[increment] x = 7\n",
      "[increment] x = 8\n",
      "[increment] x = 9\n",
      "[increment] x = 10\n",
      "[Final Result] -> x = 11\n"
     ]
    }
   ],
   "source": [
    "class LoopState(BaseModel):\n",
    "    x: int\n",
    "\n",
    "def increment(state: LoopState) -> LoopState:\n",
    "    print(f\"[increment] x = {state.x}\")\n",
    "    return LoopState(x=state.x + 1)\n",
    "\n",
    "def is_done(state: LoopState) -> bool:\n",
    "    return state.x > 10\n",
    "\n",
    "builder = StateGraph(LoopState)\n",
    "builder.add_node(\"increment\", increment)\n",
    "\n",
    "builder.add_conditional_edges(\"increment\", is_done, {\n",
    "    True: END,\n",
    "    False: \"increment\"\n",
    "})\n",
    "\n",
    "builder.add_edge(START, \"increment\")\n",
    "graph = builder.compile()\n",
    "final_state = graph.invoke(LoopState(x=6))\n",
    "print(f\"[Final Result] -> x = {final_state['x']}\")"
   ]
  },
  {
   "cell_type": "code",
   "execution_count": null,
   "id": "6fd84691-7ccf-43db-b142-72cd9cf3d9c7",
   "metadata": {},
   "outputs": [],
   "source": []
  }
 ],
 "metadata": {
  "kernelspec": {
   "display_name": "langgraph",
   "language": "python",
   "name": "langgraph"
  },
  "language_info": {
   "codemirror_mode": {
    "name": "ipython",
    "version": 3
   },
   "file_extension": ".py",
   "mimetype": "text/x-python",
   "name": "python",
   "nbconvert_exporter": "python",
   "pygments_lexer": "ipython3",
   "version": "3.11.13"
  }
 },
 "nbformat": 4,
 "nbformat_minor": 5
}
