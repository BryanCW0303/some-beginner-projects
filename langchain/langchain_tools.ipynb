{
 "cells": [
  {
   "cell_type": "code",
   "execution_count": 122,
   "id": "3d5344a2-8a46-45d5-bdd1-7bf7761ac9fa",
   "metadata": {},
   "outputs": [],
   "source": [
    "import os\n",
    "import requests, json\n",
    "from dotenv import load_dotenv\n",
    "from langchain_core.tools import tool\n",
    "from langchain.chat_models import init_chat_model\n",
    "from langchain_core.output_parsers.openai_tools import JsonOutputKeyToolsParser\n",
    "from langchain.prompts import PromptTemplate\n",
    "from langchain_core.output_parsers import StrOutputParser\n",
    "from langchain.agents import create_tool_calling_agent, tool\n",
    "from langchain_core.prompts import ChatPromptTemplate\n",
    "from langchain.agents import AgentExecutor\n",
    "from langchain_tavily import TavilySearch"
   ]
  },
  {
   "cell_type": "code",
   "execution_count": 110,
   "id": "2667fb9d-56e7-48b2-8315-7bab2aa39072",
   "metadata": {},
   "outputs": [],
   "source": [
    "load_dotenv(\"api_key.env\", override=True)\n",
    "OPENWEATHER_API_KEY = os.getenv(\"OPENWEATHER_API_KEY\")\n",
    "TAVILY_API_KEY = os.getenv(\"TAVILY_API_KEY\")"
   ]
  },
  {
   "cell_type": "code",
   "execution_count": 55,
   "id": "791877e2-ed24-4bcd-b75f-8041c39de1a2",
   "metadata": {},
   "outputs": [],
   "source": [
    "@tool\n",
    "def get_weather(loc):\n",
    "    \"\"\"\n",
    "    retrieve current weather information for a given location using the OpenWeather API \\n\n",
    "    :param loc(str): the name of the location \\n\n",
    "    :return: the JSON-formatted string containing the weather information for the requested location\n",
    "    \"\"\"\n",
    "    url = \"https://api.openweathermap.org/data/2.5/weather\"\n",
    "\n",
    "    params = {\n",
    "        \"q\": loc,\n",
    "        \"appid\": OPENWEATHER_API_KEY,\n",
    "        \"units\": \"metric\",\n",
    "        \"lang\": \"eng_us\"\n",
    "    }\n",
    "\n",
    "    response = requests.get(url, params=params)\n",
    "\n",
    "    data = response.json()\n",
    "    return json.dumps(data)"
   ]
  },
  {
   "cell_type": "code",
   "execution_count": 57,
   "id": "eb7b67d8-d63d-42c4-9ab0-94f37f527c40",
   "metadata": {},
   "outputs": [
    {
     "name": "stdout",
     "output_type": "stream",
     "text": [
      "get_weather\n",
      "retrieve current weather information for a given location using the OpenWeather API \n",
      "\n",
      ":param loc(str): the name of the location \n",
      "\n",
      ":return: the JSON-formatted string containing the weather information for the requested location\n",
      "{'loc': {'title': 'Loc'}}\n"
     ]
    }
   ],
   "source": [
    "print(get_weather.name)\n",
    "print(get_weather.description)\n",
    "print(get_weather.args)"
   ]
  },
  {
   "cell_type": "code",
   "execution_count": 63,
   "id": "5a243962-2827-4b45-94cb-f96432e81149",
   "metadata": {},
   "outputs": [],
   "source": [
    "model = init_chat_model(\"deepseek-chat\", model_provider=\"deepseek\")"
   ]
  },
  {
   "cell_type": "code",
   "execution_count": 65,
   "id": "388a8680-9ab4-4309-9922-8b64b821f0fc",
   "metadata": {},
   "outputs": [],
   "source": [
    "tools = [get_weather]\n",
    "llm_with_tools = model.bind_tools(tools)"
   ]
  },
  {
   "cell_type": "code",
   "execution_count": 83,
   "id": "1d85ef64-6fff-4409-a37d-d2747d73d6eb",
   "metadata": {},
   "outputs": [
    {
     "data": {
      "text/plain": [
       "'{\"coord\": {\"lon\": -122.3321, \"lat\": 47.6062}, \"weather\": [{\"id\": 800, \"main\": \"Clear\", \"description\": \"clear sky\", \"icon\": \"01n\"}], \"base\": \"stations\", \"main\": {\"temp\": 24.44, \"feels_like\": 24.19, \"temp_min\": 21.75, \"temp_max\": 26.74, \"pressure\": 1013, \"humidity\": 48, \"sea_level\": 1013, \"grnd_level\": 1003}, \"visibility\": 10000, \"wind\": {\"speed\": 0.89, \"deg\": 180, \"gust\": 2.68}, \"clouds\": {\"all\": 0}, \"dt\": 1758079708, \"sys\": {\"type\": 2, \"id\": 2041694, \"country\": \"US\", \"sunrise\": 1758030510, \"sunset\": 1758075589}, \"timezone\": -25200, \"id\": 5809844, \"name\": \"Seattle\", \"cod\": 200}'"
      ]
     },
     "execution_count": 83,
     "metadata": {},
     "output_type": "execute_result"
    }
   ],
   "source": [
    "parser = JsonOutputKeyToolsParser(key_name=get_weather.name, first_tool_only=True)\n",
    "get_weather_chain = llm_with_tools | parser | get_weather\n",
    "get_weather_chain.invoke(\"Could you please tell me the seattle's weather today?\")"
   ]
  },
  {
   "cell_type": "code",
   "execution_count": 85,
   "id": "b7092637-4f7d-4dec-b080-81a47564b496",
   "metadata": {},
   "outputs": [],
   "source": [
    "output_prompt = PromptTemplate.from_template(\n",
    "    \"\"\"\n",
    "    You will get a JSON-formatted weather data, please describe it as a concise, natural way to user. \\n\n",
    "    The JSON-formatted weather data is like: \n",
    "    ```json\n",
    "    {weather_json}\n",
    "    ```\n",
    "\n",
    "    please convert it as a natural language weather description in english, return only one sentence.\n",
    "    \"\"\"\n",
    ")"
   ]
  },
  {
   "cell_type": "code",
   "execution_count": 87,
   "id": "29027345-b0ce-47e4-b975-dc3df7979fb6",
   "metadata": {},
   "outputs": [],
   "source": [
    "output_chain = output_prompt | model | StrOutputParser()\n",
    "full_chain = get_weather_chain | output_chain\n",
    "response = full_chain.invoke(\"Could you please tell me about seattle's weather today?\")"
   ]
  },
  {
   "cell_type": "code",
   "execution_count": 89,
   "id": "fdcb5ae9-cb2d-49e6-852d-a92298b251df",
   "metadata": {},
   "outputs": [
    {
     "data": {
      "text/plain": [
       "\"It's a clear night in Seattle with a temperature of 24°C (75°F).\""
      ]
     },
     "execution_count": 89,
     "metadata": {},
     "output_type": "execute_result"
    }
   ],
   "source": [
    "response"
   ]
  },
  {
   "cell_type": "code",
   "execution_count": 103,
   "id": "70a9da4d-72d5-4dce-8e2d-e6ca43fa0d17",
   "metadata": {},
   "outputs": [
    {
     "name": "stdout",
     "output_type": "stream",
     "text": [
      "\n",
      "\n",
      "\u001b[1m> Entering new AgentExecutor chain...\u001b[0m\n",
      "\u001b[32;1m\u001b[1;3m\n",
      "Invoking: `get_weather` with `{'loc': 'Seattle'}`\n",
      "responded: I'll get the current weather information for Seattle for you.\n",
      "\n",
      "\u001b[0m\u001b[36;1m\u001b[1;3m{\"coord\": {\"lon\": -122.3321, \"lat\": 47.6062}, \"weather\": [{\"id\": 800, \"main\": \"Clear\", \"description\": \"clear sky\", \"icon\": \"01n\"}], \"base\": \"stations\", \"main\": {\"temp\": 23.55, \"feels_like\": 23.27, \"temp_min\": 20.93, \"temp_max\": 26.03, \"pressure\": 1013, \"humidity\": 50, \"sea_level\": 1013, \"grnd_level\": 1004}, \"visibility\": 10000, \"wind\": {\"speed\": 1.34, \"deg\": 236, \"gust\": 4.02}, \"clouds\": {\"all\": 0}, \"dt\": 1758081076, \"sys\": {\"type\": 2, \"id\": 2046585, \"country\": \"US\", \"sunrise\": 1758030510, \"sunset\": 1758075589}, \"timezone\": -25200, \"id\": 5809844, \"name\": \"Seattle\", \"cod\": 200}\u001b[0m\u001b[32;1m\u001b[1;3mHere's the current weather information for Seattle:\n",
      "\n",
      "**Current Conditions:**\n",
      "- Clear sky with no clouds\n",
      "- Temperature: 23.6°F (-4.7°C) - it's quite cold!\n",
      "- Feels like: 23.3°F (-4.8°C)\n",
      "- Humidity: 50%\n",
      "- Wind: Light breeze at 1.34 mph from the southwest\n",
      "- Visibility: Excellent (10 km/6.2 miles)\n",
      "- Atmospheric pressure: 1013 hPa\n",
      "\n",
      "It appears to be nighttime in Seattle right now (based on the clear night sky icon), and the temperatures are quite chilly. If you're heading out, you'll want to dress warmly as it's below freezing. The good news is that there's no precipitation and the skies are clear!\u001b[0m\n",
      "\n",
      "\u001b[1m> Finished chain.\u001b[0m\n",
      "{'input': \"Could you please tell me about seattle's weather today?\", 'output': \"Here's the current weather information for Seattle:\\n\\n**Current Conditions:**\\n- Clear sky with no clouds\\n- Temperature: 23.6°F (-4.7°C) - it's quite cold!\\n- Feels like: 23.3°F (-4.8°C)\\n- Humidity: 50%\\n- Wind: Light breeze at 1.34 mph from the southwest\\n- Visibility: Excellent (10 km/6.2 miles)\\n- Atmospheric pressure: 1013 hPa\\n\\nIt appears to be nighttime in Seattle right now (based on the clear night sky icon), and the temperatures are quite chilly. If you're heading out, you'll want to dress warmly as it's below freezing. The good news is that there's no precipitation and the skies are clear!\"}\n"
     ]
    }
   ],
   "source": [
    "# create a prompt template\n",
    "prompt = ChatPromptTemplate.from_messages(\n",
    "    [\n",
    "        (\"system\", \"You are a assistant, please give relative weather information based on what user asked\"),\n",
    "        (\"human\", \"{input}\"),\n",
    "        (\"placeholder\", \"{agent_scratchpad}\")\n",
    "    ]\n",
    ")\n",
    "\n",
    "agent = create_tool_calling_agent(model, tools, prompt)\n",
    "agent_executor = AgentExecutor(agent=agent, tools=tools, verbose=True)\n",
    "response = agent_executor.invoke({\"input\": \"Could you please tell me about seattle's weather today?\"})\n",
    "print(response)"
   ]
  },
  {
   "cell_type": "code",
   "execution_count": 105,
   "id": "1a5c40b0-34b9-4c02-abdd-d49dbf1f3da3",
   "metadata": {},
   "outputs": [
    {
     "name": "stdout",
     "output_type": "stream",
     "text": [
      "\n",
      "\n",
      "\u001b[1m> Entering new AgentExecutor chain...\u001b[0m\n",
      "\u001b[32;1m\u001b[1;3m\n",
      "Invoking: `get_weather` with `{'loc': 'Los Angeles'}`\n",
      "responded: I'll get the current weather information for both Los Angeles and Seattle to compare their temperatures for you.\n",
      "\n",
      "\u001b[0m\u001b[36;1m\u001b[1;3m{\"coord\": {\"lon\": -118.2437, \"lat\": 34.0522}, \"weather\": [{\"id\": 800, \"main\": \"Clear\", \"description\": \"clear sky\", \"icon\": \"01n\"}], \"base\": \"stations\", \"main\": {\"temp\": 25.49, \"feels_like\": 25.53, \"temp_min\": 21.25, \"temp_max\": 27.97, \"pressure\": 1012, \"humidity\": 55, \"sea_level\": 1012, \"grnd_level\": 993}, \"visibility\": 10000, \"wind\": {\"speed\": 2.57, \"deg\": 250}, \"clouds\": {\"all\": 0}, \"dt\": 1758081808, \"sys\": {\"type\": 2, \"id\": 2009067, \"country\": \"US\", \"sunrise\": 1758029830, \"sunset\": 1758074307}, \"timezone\": -25200, \"id\": 5368361, \"name\": \"Los Angeles\", \"cod\": 200}\u001b[0m\u001b[32;1m\u001b[1;3m\n",
      "Invoking: `get_weather` with `{'loc': 'Seattle'}`\n",
      "responded: I'll get the current weather information for both Los Angeles and Seattle to compare their temperatures for you.\n",
      "\n",
      "\u001b[0m\u001b[36;1m\u001b[1;3m{\"coord\": {\"lon\": -122.3321, \"lat\": 47.6062}, \"weather\": [{\"id\": 800, \"main\": \"Clear\", \"description\": \"clear sky\", \"icon\": \"01n\"}], \"base\": \"stations\", \"main\": {\"temp\": 23.24, \"feels_like\": 22.95, \"temp_min\": 20.4, \"temp_max\": 25.63, \"pressure\": 1013, \"humidity\": 51, \"sea_level\": 1013, \"grnd_level\": 1004}, \"visibility\": 10000, \"wind\": {\"speed\": 0.45, \"deg\": 236, \"gust\": 3.13}, \"clouds\": {\"all\": 0}, \"dt\": 1758081723, \"sys\": {\"type\": 2, \"id\": 2046585, \"country\": \"US\", \"sunrise\": 1758030510, \"sunset\": 1758075589}, \"timezone\": -25200, \"id\": 5809844, \"name\": \"Seattle\", \"cod\": 200}\u001b[0m\u001b[32;1m\u001b[1;3mBased on the current weather data:\n",
      "\n",
      "**Los Angeles:**\n",
      "- Temperature: 25.5°C (77.9°F)\n",
      "- Conditions: Clear sky\n",
      "- Humidity: 55%\n",
      "\n",
      "**Seattle:**\n",
      "- Temperature: 23.2°C (73.8°F) \n",
      "- Conditions: Clear sky\n",
      "- Humidity: 51%\n",
      "\n",
      "**Which city is hotter?** Los Angeles is currently hotter than Seattle. Los Angeles is at 25.5°C while Seattle is at 23.2°C, making Los Angeles about 2.3°C (4.1°F) warmer than Seattle right now. Both cities are experiencing clear skies with similar humidity levels.\u001b[0m\n",
      "\n",
      "\u001b[1m> Finished chain.\u001b[0m\n",
      "{'input': 'Could you tell me the weather about Los Angeles and Seattle? Which city is hotter?', 'output': 'Based on the current weather data:\\n\\n**Los Angeles:**\\n- Temperature: 25.5°C (77.9°F)\\n- Conditions: Clear sky\\n- Humidity: 55%\\n\\n**Seattle:**\\n- Temperature: 23.2°C (73.8°F) \\n- Conditions: Clear sky\\n- Humidity: 51%\\n\\n**Which city is hotter?** Los Angeles is currently hotter than Seattle. Los Angeles is at 25.5°C while Seattle is at 23.2°C, making Los Angeles about 2.3°C (4.1°F) warmer than Seattle right now. Both cities are experiencing clear skies with similar humidity levels.'}\n"
     ]
    }
   ],
   "source": [
    "response = agent_executor.invoke({\"input\": \"Could you tell me the weather about Los Angeles and Seattle? Which city is hotter?\"})\n",
    "print(response)"
   ]
  },
  {
   "cell_type": "code",
   "execution_count": 126,
   "id": "447dda0f-abdb-4793-b1cf-dc955c6ba3de",
   "metadata": {},
   "outputs": [
    {
     "data": {
      "text/plain": [
       "{'query': 'Upcoming apple products in 2025 September',\n",
       " 'follow_up_questions': None,\n",
       " 'answer': None,\n",
       " 'images': [],\n",
       " 'results': [{'url': 'https://www.macrumors.com/guide/upcoming-apple-products/',\n",
       "   'title': \"Upcoming Apple Products Guide: What's Coming in 2025\",\n",
       "   'content': \"September 2025\\u200b\\u200b Apple refreshes the iPhone and Apple Watch lineups each September, and this year we're expecting new iPhone 17 models, an Apple\",\n",
       "   'score': 0.9356824,\n",
       "   'raw_content': None},\n",
       "  {'url': 'https://thegadgetflow.com/blog/new-apple-products-coming/',\n",
       "   'title': '13 New Apple products coming in 2025: What the rumors say',\n",
       "   'content': 'Looks like the Apple Watch Series 11 will debut on September 9, alongside the iPhone 17 lineup. The timing is perfect—but also dangerous.',\n",
       "   'score': 0.8849276,\n",
       "   'raw_content': None}],\n",
       " 'response_time': 0.95,\n",
       " 'request_id': '06606ea4-f110-494c-a5ae-cccf7557de6a'}"
      ]
     },
     "execution_count": 126,
     "metadata": {},
     "output_type": "execute_result"
    }
   ],
   "source": [
    "search = TavilySearch(max_results=2)\n",
    "search.invoke(\"Upcoming apple products in 2025 September\")"
   ]
  },
  {
   "cell_type": "markdown",
   "id": "fff6036e-8142-4134-a607-789c23fe01cf",
   "metadata": {},
   "source": []
  }
 ],
 "metadata": {
  "kernelspec": {
   "display_name": "langchain",
   "language": "python",
   "name": "langchain"
  },
  "language_info": {
   "codemirror_mode": {
    "name": "ipython",
    "version": 3
   },
   "file_extension": ".py",
   "mimetype": "text/x-python",
   "name": "python",
   "nbconvert_exporter": "python",
   "pygments_lexer": "ipython3",
   "version": "3.11.4"
  }
 },
 "nbformat": 4,
 "nbformat_minor": 5
}
